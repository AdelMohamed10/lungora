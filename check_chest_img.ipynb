{
 "cells": [
  {
   "cell_type": "code",
   "execution_count": 1,
   "id": "59371d44",
   "metadata": {},
   "outputs": [
    {
     "name": "stderr",
     "output_type": "stream",
     "text": [
      "C:\\Users\\Adel_\\anaconda3\\Lib\\site-packages\\paramiko\\transport.py:219: CryptographyDeprecationWarning: Blowfish has been deprecated\n",
      "  \"class\": algorithms.Blowfish,\n"
     ]
    },
    {
     "name": "stdout",
     "output_type": "stream",
     "text": [
      "Accuracy: 0.9950142450142451\n",
      "Classification Report:\n",
      "               precision    recall  f1-score   support\n",
      "\n",
      "           0       0.99      1.00      0.99       675\n",
      "           1       1.00      0.99      1.00       729\n",
      "\n",
      "    accuracy                           1.00      1404\n",
      "   macro avg       0.99      1.00      1.00      1404\n",
      "weighted avg       1.00      1.00      1.00      1404\n",
      "\n"
     ]
    }
   ],
   "source": [
    "import os\n",
    "import cv2\n",
    "import numpy as np\n",
    "import joblib\n",
    "from skimage.feature import hog\n",
    "from sklearn import svm\n",
    "from sklearn.model_selection import train_test_split\n",
    "from sklearn.metrics import classification_report, accuracy_score\n",
    "\n",
    "# Paths configuration\n",
    "chest_dir = r\"D:\\Materials\\ML\\img_classifier\\chest_dir\"     # chest X-ray folder\n",
    "non_chest_dir = r\"D:\\Materials\\ML\\img_classifier\\non_chest_dir\"      # non-chest X-ray folder\n",
    "\n",
    "# Images & labels arrays identefication\n",
    "X = []\n",
    "y = []\n",
    "\n",
    "# HOG settings\n",
    "hog_params = {\n",
    "    \"orientations\": 9,\n",
    "    \"pixels_per_cell\": (8, 8),\n",
    "    \"cells_per_block\": (2, 2),\n",
    "    \"block_norm\": \"L2-Hys\"\n",
    "}\n",
    "\n",
    "image_size = (128, 128)  # image size for each image\n",
    "\n",
    "# Images preprocessing and features extraction\n",
    "def process_images_from_folder(folder_path, label):\n",
    "    for filename in os.listdir(folder_path):\n",
    "        path = os.path.join(folder_path, filename)\n",
    "        img = cv2.imread(path, cv2.IMREAD_GRAYSCALE)\n",
    "\n",
    "        if img is None:\n",
    "            continue\n",
    "\n",
    "        img = cv2.resize(img, image_size)\n",
    "        features = hog(img, **hog_params)\n",
    "        X.append(features)\n",
    "        y.append(label)\n",
    "\n",
    "# Apply the pre-processing function\n",
    "process_images_from_folder(chest_dir, label=1)\n",
    "process_images_from_folder(non_chest_dir, label=0)\n",
    "\n",
    "# converting into numby\n",
    "X = np.array(X)\n",
    "y = np.array(y)\n",
    "\n",
    "# Data splitting\n",
    "X_train, X_test, y_train, y_test = train_test_split(X, y, test_size=0.2, random_state=42)\n",
    "\n",
    "# Model training\n",
    "clf = svm.SVC(kernel='linear', probability=True)\n",
    "clf.fit(X_train, y_train)\n",
    "\n",
    "# Model evaluation\n",
    "y_pred = clf.predict(X_test)\n",
    "print(\"Accuracy:\", accuracy_score(y_test, y_pred))\n",
    "print(\"Classification Report:\\n\", classification_report(y_test, y_pred))\n"
   ]
  },
  {
   "cell_type": "code",
   "execution_count": 3,
   "id": "47ce7959",
   "metadata": {},
   "outputs": [
    {
     "name": "stdout",
     "output_type": "stream",
     "text": [
      "Prediction: Chest X-ray\n",
      "Probability: [3.94866642e-08 9.99999961e-01]\n"
     ]
    }
   ],
   "source": [
    "# Model inference\n",
    "# Pre-processing pipeline\n",
    "def predict_image(image_path):\n",
    "    hog_params = {\n",
    "    \"orientations\": 9,\n",
    "    \"pixels_per_cell\": (8, 8),\n",
    "    \"cells_per_block\": (2, 2),\n",
    "    \"block_norm\": \"L2-Hys\"\n",
    "    }\n",
    "    image_size = (128, 128)\n",
    "    img = cv2.imread(image_path, cv2.IMREAD_GRAYSCALE)\n",
    "    img = cv2.resize(img, image_size)\n",
    "    features = hog(img, **hog_params)\n",
    "    prediction = clf.predict([features])[0]\n",
    "    probability = clf.predict_proba([features])[0]\n",
    "    print(f\"Prediction: {'Chest X-ray' if prediction == 1 else 'Other'}\") # Print the prediction\n",
    "    print(f\"Probability: {probability}\") # Print probabilities\n",
    "\n",
    "# Inference on unseen image (Test)\n",
    "predict_image(r\"C:\\Users\\Adel_\\OneDrive\\Desktop\\pneumonia.jpg\")"
   ]
  },
  {
   "cell_type": "code",
   "execution_count": 4,
   "id": "45744720",
   "metadata": {},
   "outputs": [],
   "source": [
    "# save the best model\n",
    "joblib.dump(clf, \"img_classifier.pkl\")\n",
    "\n",
    "#load the model\n",
    "clf = joblib.load(r\"D:\\Materials\\ML\\img_classifier\\img_classifier.pkl\")"
   ]
  },
  {
   "cell_type": "code",
   "execution_count": 6,
   "id": "ea1f57e7",
   "metadata": {},
   "outputs": [
    {
     "name": "stdout",
     "output_type": "stream",
     "text": [
      "Prediction: Chest X-ray\n",
      "Probability: [0.0071638 0.9928362]\n"
     ]
    }
   ],
   "source": [
    "# Loaded model inference\n",
    "predict_image(r\"C:\\Users\\Adel_\\OneDrive\\Desktop\\pneumonia1.png\")"
   ]
  },
  {
   "cell_type": "code",
   "execution_count": null,
   "id": "0ae8de94",
   "metadata": {},
   "outputs": [],
   "source": []
  }
 ],
 "metadata": {
  "kernelspec": {
   "display_name": "Python 3 (ipykernel)",
   "language": "python",
   "name": "python3"
  },
  "language_info": {
   "codemirror_mode": {
    "name": "ipython",
    "version": 3
   },
   "file_extension": ".py",
   "mimetype": "text/x-python",
   "name": "python",
   "nbconvert_exporter": "python",
   "pygments_lexer": "ipython3",
   "version": "3.11.3"
  }
 },
 "nbformat": 4,
 "nbformat_minor": 5
}
